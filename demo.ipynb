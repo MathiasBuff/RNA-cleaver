{
 "cells": [
  {
   "cell_type": "code",
   "execution_count": 14,
   "id": "e971afd2",
   "metadata": {},
   "outputs": [],
   "source": [
    "def load_sequence(file_path: str) -> str:\n",
    "    with open(file_path, 'r') as file:\n",
    "        sequence = file.read().strip()\n",
    "    return sequence"
   ]
  },
  {
   "cell_type": "code",
   "execution_count": 12,
   "id": "420741c3-0d20-4021-a5d7-5eab4af37e8b",
   "metadata": {},
   "outputs": [],
   "source": [
    "def digestion_enzyme(sequence: str, cleaving_enzyme: callable, missed_cleavages: int=0) -> list:\n",
    "    oligo = set()\n",
    "    cut_sites = [0]\n",
    "    \n",
    "    for i in range(0, len(sequence)-2):\n",
    "        if cleaving_enzyme(sequence[i], sequence[i+1]):\n",
    "            cut_sites.append(i+1)\n",
    "    \n",
    "    cut_sites.append(len(sequence))\n",
    "\n",
    "    if len(cut_sites) > 2 and missed_cleavages in [0, 1, 2]:\n",
    "        if  missed_cleavages == 0:\n",
    "            for j in range(0,len(cut_sites)-1):\n",
    "                oligo.add(sequence[cut_sites[j]:cut_sites[j+1]])\n",
    "\n",
    "        elif missed_cleavages == 1:\n",
    "            for j in range(0,len(cut_sites)-2):\n",
    "                oligo.add(sequence[cut_sites[j]:cut_sites[j+1]])\n",
    "                oligo.add(sequence[cut_sites[j]:cut_sites[j+2]])\n",
    "            \n",
    "            oligo.add(sequence[cut_sites[-2]:cut_sites[-1]])\n",
    "\n",
    "        elif missed_cleavages == 2:\n",
    "            for j in range(0,len(cut_sites)-3):\n",
    "                oligo.add(sequence[cut_sites[j]:cut_sites[j+1]])\n",
    "                oligo.add(sequence[cut_sites[j]:cut_sites[j+2]])\n",
    "                oligo.add(sequence[cut_sites[j]:cut_sites[j+3]])\n",
    "            \n",
    "            oligo.add(sequence[cut_sites[-3]:cut_sites[-2]])\n",
    "            oligo.add(sequence[cut_sites[-3]:cut_sites[-1]])\n",
    "            oligo.add(sequence[cut_sites[-2]:cut_sites[-1]])\n",
    "    else:\n",
    "        oligo.add(sequence)\n",
    "    \n",
    "    oligo_list = list(oligo)\n",
    "    oligo_list.sort(key=len)\n",
    "\n",
    "    return oligo_list\n"
   ]
  },
  {
   "cell_type": "markdown",
   "id": "28840025",
   "metadata": {},
   "source": [
    "In the next cell we define the different RNAses that we might use by their rules.\n",
    "In details, `rnases` is a dictionary holding functions that return `True` if the enzyme should cut"
   ]
  },
  {
   "cell_type": "code",
   "execution_count": 7,
   "id": "49ba7527",
   "metadata": {},
   "outputs": [],
   "source": [
    "rnases = {}\n",
    "\n",
    "rnases[\"demo\"] = lambda c, n: c == \"A\" and n in [\"G\", \"U\"]  # demo RNase that cleaves after A if followed by U or G\n",
    "rnases[\"T1\"] = lambda c, n: c == \"G\" and n in [\"A\", \"C\", \"G\", \"U\"] # RNase T1 cleaves after G\n",
    "rnases[\"4\"] = lambda c, n: c == \"U\" and n in [\"A\", \"G\"] # RNase 4 cleaves after U if followed by A or G \n",
    "rnases[\"MC1\"] = lambda c, n: c in [\"A\", \"C\", \"U\"] and n == \"U\" # RNase MC1 cleaves after A, C, or U if followed by U  \n",
    "rnases[\"Cusativin\"] = lambda c, n: (c == \"C\" and n in [\"A\", \"G\", \"U\"]) or (c ==\"U\" and n == \"A\") or (c in [\"A\", \"U\"] and n == \"U\") # Cusativin cleaves after C if followed by A, G, or U; after U if followed by A; after A or U if followed by U"
   ]
  },
  {
   "cell_type": "markdown",
   "id": "eb1bcc05",
   "metadata": {},
   "source": [
    "Then, we can run the digestion simulation with some example data."
   ]
  },
  {
   "cell_type": "code",
   "execution_count": 19,
   "id": "2f350925-e61d-4163-9bd0-8b970a067d3a",
   "metadata": {},
   "outputs": [
    {
     "name": "stdout",
     "output_type": "stream",
     "text": [
      "['GA', 'GGA', 'GAA', 'GCA', 'GTA', 'GCCA', 'GACA', 'GCAA', 'GGAA', 'GAAA', 'GTCA', 'GGGA', 'GCTA', 'GTTA', 'GATA', 'GCTAA', 'GACAA', 'GTACA', 'GGAAA', 'GAAAA', 'GTCCA', 'GGGTA', 'GCCAA', 'GTGGA', 'GATGA', 'GTGAA', 'GGCTTA', 'GGGCCA', 'GTCTGA', 'GCGGAA', 'GATAAA', 'GAAATA', 'GCTTTA', 'GAATTA', 'GATGAA', 'GCTAAA', 'GCACAA', 'GTTCAA', 'GTCCTA', 'GTTTTA', 'GTTGAA', 'GCATAA', 'GGCAAA', 'GGGCGA', 'GTTCTTA', 'GGTTAAA', 'GCTCGTA', 'GGGATAA', 'GCTGGTA', 'GTTACTA', 'GGTTTGA', 'GATGATA', 'GTATAAA', 'GAAAACA', 'GGCGATA', 'GTCTGAA', 'GGAAATGA', 'GTCAAAAA', 'GACGATTA', 'GTACGTGA', 'GGTGAACA', 'GTGCCGGA', 'GGATATAA', 'GCAAATCA', 'ATGGATAA', 'GACAATAA', 'GATTATTGA', 'GAAAATGAA', 'GTAAATCAA', 'GTTAAAAAA', 'GGTGACTGA', 'GTGCGCAAA', 'GGTATCAAA', 'GATATCTTA', 'GATGATTGA', 'GCTTATTCA', 'GGTGCTTCA', 'GATGCTAAA', 'GACTGTAAAA', 'GATATCCTAA', 'GATTCTTAAA', 'GATGGCGAAA', 'GCATTATTTA', 'GACCGCCACA', 'GCAATTAAAA', 'GCTTTCAAAA', 'GAATTTATCA', 'GGTGGAAAAA', 'GTCTTTTTGA', 'GTTTCCTTAAA', 'GTCCAACGGTA', 'GTGGTTGCTAA', 'GACAATCGTGA', 'GGTATTTTACA', 'GGGAAATCGAA', 'GTAACCGTTAA', 'GATTTTGCCACA', 'GGTGATGAAACA', 'GTGTCTGGACAA', 'GACATTCAAAAA', 'GACAACTCAAAA', 'GTTGTCGATAAA', 'GAATTACAAAAA', 'GATGCCAATTTA', 'GCTGAACGTGGA', 'GCATTTCTTTCA', 'GCTCCCCGGTGA', 'GACGATTCAATA', 'GGCTCCCCTATCA', 'GAAATTCGGACAA', 'GTGAATTTTCTAA', 'GAAATACTCAATA', 'GAATGTTTTGATA', 'GCGTGTTATTTTA', 'GAAAAATTCGCGA', 'GTCATTATGAAAA', 'GTTTGCTTTATGA', 'GCGCATATGATTAA', 'GTTGCTTATCATGA', 'GTCAATATTGTCAA', 'GGCGGATTCTCCAA', 'GTTTGACATTTAAA', 'GTGAACTTGATAAA', 'GCTGGCTCTGCCAA', 'GTGTTGAAATTTCA', 'GATGCTAAATTACA', 'GATTTGCTGCGCAA', 'GATTTTTTCAAATGA', 'GATTTTTTGAAATCA', 'GATTCTACTGATAAA', 'GGAATGCGAAAACCA', 'GGTTCCGTCTAAAAA', 'GTCTTTTTTGGTGGAA', 'GTTAAAATCCGTTAAA', 'GTACTACCAAAACATA', 'GATATCGGCACAAATA', 'GATATTAATCGTTTAA', 'GGTTCTGGGAAATACA', 'GGTATACACGTCGGAA', 'GAAAATCTCATTGCTCA', 'GATGAAAAACTATTGGA', 'GCTGATCCATGATGATA', 'GATTTAATGCTTCATTA', 'GTCAATTTTACCAAAAA', 'GCTGCATGCTATTTTGA', 'GCCCTGCTATTAAAAAA', 'GTAATGGGGCGGCATAA', 'GTTCGACAACAACTTCCA', 'GTTAATCACTCAACGTAA', 'GTATTGTCCATGCCCCAA', 'GTGCATATAACAAACATA', 'GAAATTGTCTGGGATAAA', 'GACTTGACTCTTTTAAAA', 'GATGCTATTTTACTTTCA', 'GACATGTATGTGGACCAA', 'GGTTATATTGATGGGGGA', 'GTTTCTGACTTCCGAAAA', 'GATTTCCAATTCTATAAA', 'GATTATTTCAAAAAAATA', 'GATTTTTTGGATAATGAA', 'GACAACTTCTAAACGCCAA', 'GCGTATGAAACGAATCGAA', 'GATTTAAATCCTGATAATA', 'GAAAACCCTATTAACGCAA', 'GGGGCTCTTTTATTTGACA', 'GGGATCACAATTATGGAAA', 'GGTCAAATATGTTACTGAA', 'GTTTGATAATTTAACGAAA', 'GCTTATTGCTCGTAAAAAA', 'GAAAAAATGGATGGTACTGA', 'GTTTCTTTCATCGACTTGAA', 'GTATCAAAAAAAATCTTATA', 'GTAAATACTGAAATAACTAA', 'GCGACTCGTCTCAAACGGACA', 'GAAATTACACTTGCAAATGGA', 'GATACTTACGATGATGATTTA', 'GTTGTTGATGAATTGGTCAAA', 'GACAAACCAATACGTGAACAA', 'GAATCGTATTTGTTATCTACA', 'GACTTTTATCCATTTTTAAAA', 'GTTTGTCTATGGTGATTATAAA', 'GCAATCTGGCAAAACAATATTA', 'GCGATTCTTTCTGCACGATTGA', 'GCATGTGGCACAAATTTTGGATA', 'GATAATTTATTGGCGCAAATTGGA', 'GTGATTACCTTAAAATCTAAATTA', 'GAAATATCCAAAACTTGAATCGGA', 'GTTTCGTGGTCATTTTTTGATTGA', 'GTGATGTGGACAAACTATTTATCCA', 'GTCGTTTTGCATGGATGACTCGGAA', 'GTTTACATGAACATATTGCAAATTTA', 'GCAAATATGTGAATTTTTTATATTTA', 'GATCAATATGCTGATTTGTTTTTGGCA', 'GAAACAATTACCCCATGGAATTTTGAA', 'GGAATTATTGGTGAAACTAAATCGTGAA', 'GAAAACGGTCGTAAACGGATGCTGGCTA', 'GACTTAATCATTAAACTACCTAAATATA', 'GCTCTATCTCTATTATCTCCAAAATGGAA', 'GATAACGAACAAAAACAATTGTTTGTGGA', 'GTTTATGATGTTCGTAAAATGATTGCTAA', 'GATGGTTTTGCCAATCGCAATTTTATGCA', 'GCGGATTTGCGCTTAATCTATTTGGCCTTA', 'GTATTTTACGGTTTATAACGAATTGACAAA', 'GAATTTTATAAATTTATCAAACCAATTTTA', 'GGATATTGTTTTAACATTGACCTTATTTGAA', 'GCATGAACGTCATCCTATTTTTGGAAATATA', 'GTTGGTACAAACCTACAATCAATTATTTGAA', 'GTTCCTTTGAAAAAAATCCGATTGACTTTTTA', 'GGTACCTACCATGATTTGCTAAAAATTATTAAA', 'GTGATTATGATGTCGATCACATTGTTCCACAAA', 'GCGTCGGATGGGCGGTGATCACTGATGAATATAA', 'GACTGGGATCCAAAAAAATATGGTGGTTTTGATA', 'GACTTAAAACATATGCTCACCTCTTTGATGATAA', 'GAAAATATCGTTATTGAAATGGCACGTGAAAATCA', 'GCTTCAATGATTAAACGCTACGATGAACATCATCAA', 'GCCATTGTTGATTTACTCTTCAAAACAAATCGAAAA', 'GAAATCTTTTTTGATCAATCAAAAAACGGATATGCA', 'GCATCCTGTTGAAAATACTCAATTGCAAAATGAAAA', 'GAAAATATTATTCATTTATTTACGTTGACGAATCTTGGA', 'GAAATATCCAACTATCTATCATCTGCGAAAAAAATTGGTA', 'GATTCGCAAACGCCCTCTAATCGAAACTAATGGGGAAACTGGA', 'GTCGCATGAATACTAAATACGATGAAAATGATAAACTTATTCGA', 'GCTGGTTTTATCAAACGCCAATTGGTTGAAACTCGCCAAATCACTAA', 'GGTCTTAACGCGTTCTGATAAAAATCGTGGTAAATCGGATAACGTTCCAA', 'GCAACGGACCTTTGACAACGGCTCTATTCCCCATCAAATTCACTTGGGTGA', 'GCAACCGCAAAATATTTCTTTTACTCTAATATCATGAACTTCTTCAAAACA', 'GCTCAATCATTTATTGAACGCATGACAAACTTTGATAAAAATCTTCCAAATGAAAAA', 'GATGCCACTCTTATCCATCAATCCATCACTGGTCTTTATGAAACACGCATTGATTTGA', 'GCTTAAACGTCGCCGTTATACTGGTTGGGGACGTTTGTCTCGAAAATTGATTAATGGTATTA', 'GATTGAAAAAATCTTGACTTTTCGAATTCCTTATTATGTTGGTCCATTGGCGCGTGGCAATA', 'GCTCCCGCTGCTTTTAAATATTTTGATACAACAATTGATCGTAAACGATATACGTCTACAAAA', 'GATTAACAATTACCATCATGCCCATGATGCGTATCTAAATGCCGTCGTTGGAACTGCTTTGATTAA', 'GAAAAATGGCTTATTTGGGAATCTCATTGCTTTGTCATTGGGTTTGACCCCTAATTTTAAATCAAATTTTGATTTGGCA']\n"
     ]
    }
   ],
   "source": [
    "# seq = 'GAUAUCAAAGACACGACGGUGUUUUAGAGCUAGAAAUAGCAAGUUAAAAUAAGGCUAGUCCGUUAUCAACUUGAAAAAGUGGCACCGAGUCGGUGCUUUU'\n",
    "seq = load_sequence('example-sequence.txt')\n",
    "enzyme = rnases[\"demo\"]\n",
    "\n",
    "oligo_list = digestion_enzyme(seq, enzyme)\n",
    "print(oligo_list)"
   ]
  },
  {
   "cell_type": "code",
   "execution_count": null,
   "id": "051da22a-833b-427d-ac27-aee635586c32",
   "metadata": {},
   "outputs": [],
   "source": [
    "with open(\"output.txt\", mode=\"w\") as data:\n",
    "    data.write(\"\\n\".join(oligo_list) + \"\\n\")"
   ]
  }
 ],
 "metadata": {
  "kernelspec": {
   "display_name": "Python 3",
   "language": "python",
   "name": "python3"
  },
  "language_info": {
   "codemirror_mode": {
    "name": "ipython",
    "version": 3
   },
   "file_extension": ".py",
   "mimetype": "text/x-python",
   "name": "python",
   "nbconvert_exporter": "python",
   "pygments_lexer": "ipython3",
   "version": "3.12.10"
  }
 },
 "nbformat": 4,
 "nbformat_minor": 5
}
