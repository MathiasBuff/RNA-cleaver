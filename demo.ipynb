{
 "cells": [
  {
   "cell_type": "code",
   "execution_count": 1,
   "id": "420741c3-0d20-4021-a5d7-5eab4af37e8b",
   "metadata": {},
   "outputs": [],
   "source": [
    "def digestion_enzyme(seq, missed_cleavages):\n",
    "    oligo=[]\n",
    "    cut_sites=[0]\n",
    "    for i in range(0,len(seq)-1):\n",
    "        if (seq[i]=='A' and seq[i+1]=='U') or (seq[i]=='A' and seq[i+1]=='G'):\n",
    "            cut_sites.append(i+1)\n",
    "    \n",
    "    if cut_sites[-1]!=len(seq):\n",
    "        cut_sites.append(len(seq))\n",
    "\n",
    "    if len(cut_sites)>2:\n",
    "        if  missed_cleavages==0:\n",
    "            for j in range(0,len(cut_sites)-1):\n",
    "                oligo.append(seq[cut_sites[j]:cut_sites[j+1]])\n",
    "\n",
    "        elif missed_cleavages==1:\n",
    "            for j in range(0,len(cut_sites)-2):\n",
    "                oligo.append(seq[cut_sites[j]:cut_sites[j+1]])\n",
    "                oligo.append(seq[cut_sites[j]:cut_sites[j+2]])\n",
    "            \n",
    "            oligo.append(seq[cut_sites[-2]:cut_sites[-1]])\n",
    "\n",
    "        elif missed_cleavages==2:\n",
    "            for j in range(0,len(cut_sites)-3):\n",
    "                oligo.append(seq[cut_sites[j]:cut_sites[j+1]])\n",
    "                oligo.append(seq[cut_sites[j]:cut_sites[j+2]])\n",
    "                oligo.append(seq[cut_sites[j]:cut_sites[j+3]])\n",
    "            \n",
    "            oligo.append(seq[cut_sites[-3]:cut_sites[-2]])\n",
    "            oligo.append(seq[cut_sites[-3]:cut_sites[-1]])\n",
    "            oligo.append(seq[cut_sites[-2]:cut_sites[-1]])\n",
    "    else:\n",
    "        oligo.append(seq)\n",
    "        \n",
    "    return oligo\n"
   ]
  },
  {
   "cell_type": "code",
   "execution_count": 2,
   "id": "2f350925-e61d-4163-9bd0-8b970a067d3a",
   "metadata": {},
   "outputs": [
    {
     "name": "stdout",
     "output_type": "stream",
     "text": [
      "['GA', 'GAUA', 'GAUAUCAAA', 'UA', 'UAUCAAA', 'UAUCAAAGACACGACGGUGUUUUA', 'UCAAA', 'UCAAAGACACGACGGUGUUUUA', 'UCAAAGACACGACGGUGUUUUAGA', 'GACACGACGGUGUUUUA', 'GACACGACGGUGUUUUAGA', 'GACACGACGGUGUUUUAGAGCUA', 'GA', 'GAGCUA', 'GAGCUAGAAA', 'GCUA', 'GCUAGAAA', 'GCUAGAAAUA', 'GAAA', 'GAAAUA', 'GAAAUAGCAA', 'UA', 'UAGCAA', 'UAGCAAGUUAAAA', 'GCAA', 'GCAAGUUAAAA', 'GCAAGUUAAAAUAA', 'GUUAAAA', 'GUUAAAAUAA', 'GUUAAAAUAAGGCUA', 'UAA', 'UAAGGCUA', 'UAAGGCUAGUCCGUUA', 'GGCUA', 'GGCUAGUCCGUUA', 'GGCUAGUCCGUUAUCAACUUGAAAAA', 'GUCCGUUA', 'GUCCGUUAUCAACUUGAAAAA', 'GUCCGUUAUCAACUUGAAAAAGUGGCACCGA', 'UCAACUUGAAAAA', 'UCAACUUGAAAAAGUGGCACCGA', 'UCAACUUGAAAAAGUGGCACCGAGUCGGUGCUUUU', 'GUGGCACCGA', 'GUGGCACCGAGUCGGUGCUUUU', 'GUCGGUGCUUUU']\n"
     ]
    }
   ],
   "source": [
    "seq = 'GAUAUCAAAGACACGACGGUGUUUUAGAGCUAGAAAUAGCAAGUUAAAAUAAGGCUAGUCCGUUAUCAACUUGAAAAAGUGGCACCGAGUCGGUGCUUUU'\n",
    "missed_cleavages = 2\n",
    "\n",
    "oligo_list = digestion_enzyme(seq, missed_cleavages)\n",
    "print(oligo_list)"
   ]
  },
  {
   "cell_type": "code",
   "execution_count": null,
   "id": "051da22a-833b-427d-ac27-aee635586c32",
   "metadata": {},
   "outputs": [],
   "source": [
    "with open(\"output.txt\", mode=\"w\") as data:\n",
    "    data.write(\"\\n\".join(oligo_list) + \"\\n\")"
   ]
  }
 ],
 "metadata": {
  "kernelspec": {
   "display_name": "Python 3 (ipykernel)",
   "language": "python",
   "name": "python3"
  },
  "language_info": {
   "codemirror_mode": {
    "name": "ipython",
    "version": 3
   },
   "file_extension": ".py",
   "mimetype": "text/x-python",
   "name": "python",
   "nbconvert_exporter": "python",
   "pygments_lexer": "ipython3",
   "version": "3.12.10"
  }
 },
 "nbformat": 4,
 "nbformat_minor": 5
}
