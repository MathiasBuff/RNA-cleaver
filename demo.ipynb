{
 "cells": [
  {
   "cell_type": "code",
   "execution_count": 14,
   "id": "e971afd2",
   "metadata": {},
   "outputs": [],
   "source": [
    "def load_sequence(file_path: str) -> str:\n",
    "    with open(file_path, 'r') as file:\n",
    "        sequence = file.read().strip()\n",
    "    return sequence"
   ]
  },
  {
   "cell_type": "code",
   "execution_count": 12,
   "id": "420741c3-0d20-4021-a5d7-5eab4af37e8b",
   "metadata": {},
   "outputs": [],
   "source": [
    "def digestion_enzyme(sequence: str, cleaving_enzyme: callable, missed_cleavages: int=0) -> list:\n",
    "    oligo = set()\n",
    "    cut_sites = [0]\n",
    "    \n",
    "    for i in range(0, len(sequence)-2):\n",
    "        if cleaving_enzyme(sequence[i], sequence[i+1]):\n",
    "            cut_sites.append(i+1)\n",
    "    \n",
    "    cut_sites.append(len(sequence))\n",
    "\n",
    "    if len(cut_sites) > 2 and missed_cleavages in [0, 1, 2]:\n",
    "        if  missed_cleavages == 0:\n",
    "            for j in range(0,len(cut_sites)-1):\n",
    "                oligo.add(sequence[cut_sites[j]:cut_sites[j+1]])\n",
    "\n",
    "        elif missed_cleavages == 1:\n",
    "            for j in range(0,len(cut_sites)-2):\n",
    "                oligo.add(sequence[cut_sites[j]:cut_sites[j+1]])\n",
    "                oligo.add(sequence[cut_sites[j]:cut_sites[j+2]])\n",
    "            \n",
    "            oligo.add(sequence[cut_sites[-2]:cut_sites[-1]])\n",
    "\n",
    "        elif missed_cleavages == 2:\n",
    "            for j in range(0,len(cut_sites)-3):\n",
    "                oligo.add(sequence[cut_sites[j]:cut_sites[j+1]])\n",
    "                oligo.add(sequence[cut_sites[j]:cut_sites[j+2]])\n",
    "                oligo.add(sequence[cut_sites[j]:cut_sites[j+3]])\n",
    "            \n",
    "            oligo.add(sequence[cut_sites[-3]:cut_sites[-2]])\n",
    "            oligo.add(sequence[cut_sites[-3]:cut_sites[-1]])\n",
    "            oligo.add(sequence[cut_sites[-2]:cut_sites[-1]])\n",
    "    else:\n",
    "        oligo.add(sequence)\n",
    "    \n",
    "    oligo_list = list(oligo)\n",
    "    oligo_list.sort(key=len)\n",
    "\n",
    "    return oligo_list\n"
   ]
  },
  {
   "cell_type": "markdown",
   "id": "28840025",
   "metadata": {},
   "source": [
    "In the next cell we define the different RNAses that we might use by their rules.\n",
    "In details, `rnases` is a dictionary holding functions that return `True` if the enzyme should cut"
   ]
  },
  {
   "cell_type": "code",
   "execution_count": 7,
   "id": "49ba7527",
   "metadata": {},
   "outputs": [],
   "source": [
    "rnases = {}\n",
    "\n",
    "rnases[\"demo\"] = lambda c, n: c == \"A\" and n in [\"G\", \"U\"]  # demo RNase that cleaves after A if followed by U or G\n",
    "rnases[\"T1\"] = lambda c, n: c == \"G\" and n in [\"A\", \"C\", \"G\", \"U\"] # RNase T1 cleaves after G\n",
    "rnases[\"4\"] = lambda c, n: c == \"U\" and n in [\"A\", \"G\"] # RNase 4 cleaves after U if followed by A or G \n",
    "rnases[\"MC1\"] = lambda c, n: c in [\"A\", \"C\", \"U\"] and n == \"U\" # RNase MC1 cleaves after A, C, or U if followed by U  \n",
    "rnases[\"Cusativin\"] = lambda c, n: (c == \"C\" and n in [\"A\", \"G\", \"U\"]) or (c ==\"U\" and n == \"A\") or (c in [\"A\", \"U\"] and n == \"U\") # Cusativin cleaves after C if followed by A, G, or U; after U if followed by A; after A or U if followed by U"
   ]
  },
  {
   "cell_type": "markdown",
   "id": "eb1bcc05",
   "metadata": {},
   "source": [
    "Then, we can run the digestion simulation with some example data."
   ]
  },
  {
   "cell_type": "code",
   "execution_count": 18,
   "id": "2f350925-e61d-4163-9bd0-8b970a067d3a",
   "metadata": {},
   "outputs": [
    {
     "ename": "FileNotFoundError",
     "evalue": "[Errno 2] No such file or directory: 'example_sequence.txt'",
     "output_type": "error",
     "traceback": [
      "\u001b[31m---------------------------------------------------------------------------\u001b[39m",
      "\u001b[31mFileNotFoundError\u001b[39m                         Traceback (most recent call last)",
      "\u001b[36mCell\u001b[39m\u001b[36m \u001b[39m\u001b[32mIn[18]\u001b[39m\u001b[32m, line 2\u001b[39m\n\u001b[32m      1\u001b[39m \u001b[38;5;66;03m# seq = 'GAUAUCAAAGACACGACGGUGUUUUAGAGCUAGAAAUAGCAAGUUAAAAUAAGGCUAGUCCGUUAUCAACUUGAAAAAGUGGCACCGAGUCGGUGCUUUU'\u001b[39;00m\n\u001b[32m----> \u001b[39m\u001b[32m2\u001b[39m seq = \u001b[43mload_sequence\u001b[49m\u001b[43m(\u001b[49m\u001b[33;43m'\u001b[39;49m\u001b[33;43mexample_sequence.txt\u001b[39;49m\u001b[33;43m'\u001b[39;49m\u001b[43m)\u001b[49m\n\u001b[32m      3\u001b[39m enzyme = rnases[\u001b[33m\"\u001b[39m\u001b[33mdemo\u001b[39m\u001b[33m\"\u001b[39m]\n\u001b[32m      5\u001b[39m oligo_list = digestion_enzyme(seq, enzyme)\n",
      "\u001b[36mCell\u001b[39m\u001b[36m \u001b[39m\u001b[32mIn[14]\u001b[39m\u001b[32m, line 2\u001b[39m, in \u001b[36mload_sequence\u001b[39m\u001b[34m(file_path)\u001b[39m\n\u001b[32m      1\u001b[39m \u001b[38;5;28;01mdef\u001b[39;00m\u001b[38;5;250m \u001b[39m\u001b[34mload_sequence\u001b[39m(file_path: \u001b[38;5;28mstr\u001b[39m) -> \u001b[38;5;28mstr\u001b[39m:\n\u001b[32m----> \u001b[39m\u001b[32m2\u001b[39m     \u001b[38;5;28;01mwith\u001b[39;00m \u001b[38;5;28;43mopen\u001b[39;49m\u001b[43m(\u001b[49m\u001b[43mfile_path\u001b[49m\u001b[43m,\u001b[49m\u001b[43m \u001b[49m\u001b[33;43m'\u001b[39;49m\u001b[33;43mr\u001b[39;49m\u001b[33;43m'\u001b[39;49m\u001b[43m)\u001b[49m \u001b[38;5;28;01mas\u001b[39;00m file:\n\u001b[32m      3\u001b[39m         sequence = file.read().strip()\n\u001b[32m      4\u001b[39m     \u001b[38;5;28;01mreturn\u001b[39;00m sequence\n",
      "\u001b[36mFile \u001b[39m\u001b[32m~\\AppData\\Roaming\\Python\\Python312\\site-packages\\IPython\\core\\interactiveshell.py:327\u001b[39m, in \u001b[36m_modified_open\u001b[39m\u001b[34m(file, *args, **kwargs)\u001b[39m\n\u001b[32m    320\u001b[39m \u001b[38;5;28;01mif\u001b[39;00m file \u001b[38;5;129;01min\u001b[39;00m {\u001b[32m0\u001b[39m, \u001b[32m1\u001b[39m, \u001b[32m2\u001b[39m}:\n\u001b[32m    321\u001b[39m     \u001b[38;5;28;01mraise\u001b[39;00m \u001b[38;5;167;01mValueError\u001b[39;00m(\n\u001b[32m    322\u001b[39m         \u001b[33mf\u001b[39m\u001b[33m\"\u001b[39m\u001b[33mIPython won\u001b[39m\u001b[33m'\u001b[39m\u001b[33mt let you open fd=\u001b[39m\u001b[38;5;132;01m{\u001b[39;00mfile\u001b[38;5;132;01m}\u001b[39;00m\u001b[33m by default \u001b[39m\u001b[33m\"\u001b[39m\n\u001b[32m    323\u001b[39m         \u001b[33m\"\u001b[39m\u001b[33mas it is likely to crash IPython. If you know what you are doing, \u001b[39m\u001b[33m\"\u001b[39m\n\u001b[32m    324\u001b[39m         \u001b[33m\"\u001b[39m\u001b[33myou can use builtins\u001b[39m\u001b[33m'\u001b[39m\u001b[33m open.\u001b[39m\u001b[33m\"\u001b[39m\n\u001b[32m    325\u001b[39m     )\n\u001b[32m--> \u001b[39m\u001b[32m327\u001b[39m \u001b[38;5;28;01mreturn\u001b[39;00m \u001b[43mio_open\u001b[49m\u001b[43m(\u001b[49m\u001b[43mfile\u001b[49m\u001b[43m,\u001b[49m\u001b[43m \u001b[49m\u001b[43m*\u001b[49m\u001b[43margs\u001b[49m\u001b[43m,\u001b[49m\u001b[43m \u001b[49m\u001b[43m*\u001b[49m\u001b[43m*\u001b[49m\u001b[43mkwargs\u001b[49m\u001b[43m)\u001b[49m\n",
      "\u001b[31mFileNotFoundError\u001b[39m: [Errno 2] No such file or directory: 'example_sequence.txt'"
     ]
    }
   ],
   "source": [
    "# seq = 'GAUAUCAAAGACACGACGGUGUUUUAGAGCUAGAAAUAGCAAGUUAAAAUAAGGCUAGUCCGUUAUCAACUUGAAAAAGUGGCACCGAGUCGGUGCUUUU'\n",
    "seq = load_sequence('example_sequence.txt')\n",
    "enzyme = rnases[\"demo\"]\n",
    "\n",
    "oligo_list = digestion_enzyme(seq, enzyme)\n",
    "print(oligo_list)"
   ]
  },
  {
   "cell_type": "code",
   "execution_count": null,
   "id": "051da22a-833b-427d-ac27-aee635586c32",
   "metadata": {},
   "outputs": [],
   "source": [
    "with open(\"output.txt\", mode=\"w\") as data:\n",
    "    data.write(\"\\n\".join(oligo_list) + \"\\n\")"
   ]
  }
 ],
 "metadata": {
  "kernelspec": {
   "display_name": "Python 3",
   "language": "python",
   "name": "python3"
  },
  "language_info": {
   "codemirror_mode": {
    "name": "ipython",
    "version": 3
   },
   "file_extension": ".py",
   "mimetype": "text/x-python",
   "name": "python",
   "nbconvert_exporter": "python",
   "pygments_lexer": "ipython3",
   "version": "3.12.10"
  }
 },
 "nbformat": 4,
 "nbformat_minor": 5
}
